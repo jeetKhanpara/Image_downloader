{
 "cells": [
  {
   "cell_type": "code",
   "execution_count": 49,
   "metadata": {},
   "outputs": [],
   "source": [
    "from selenium import webdriver\n",
    "from selenium.webdriver.common.keys import Keys\n",
    "from selenium.webdriver.chrome.service import Service\n",
    "from selenium.webdriver.common.by import By\n",
    "from selenium.webdriver.support import expected_conditions as ec\n",
    "from selenium.webdriver.support.ui import WebDriverWait\n",
    "import requests\n",
    "import time"
   ]
  },
  {
   "cell_type": "code",
   "execution_count": 59,
   "metadata": {},
   "outputs": [],
   "source": [
    "#going into the  website\n",
    "driver = webdriver.Chrome()\n",
    "driver.get(\"https://www.google.com/\")"
   ]
  },
  {
   "cell_type": "code",
   "execution_count": 60,
   "metadata": {},
   "outputs": [],
   "source": [
    "#go to the search field and enter keywords\n",
    "search_text = driver.find_element(By.XPATH,'//*[@id=\"APjFqb\"]')\n",
    "search_text.send_keys(\"kitchen\")\n",
    "search_text.send_keys(Keys.RETURN)\n",
    "\n"
   ]
  },
  {
   "cell_type": "code",
   "execution_count": 61,
   "metadata": {},
   "outputs": [],
   "source": [
    "#go to the images of perticular keyword \n",
    "images_field = driver.find_element(By.XPATH,'//*[@id=\"hdtb-msb\"]/div[1]/div/div[2]/a')\n",
    "images_field.click()"
   ]
  },
  {
   "cell_type": "code",
   "execution_count": 78,
   "metadata": {},
   "outputs": [],
   "source": [
    "#select the first image\n",
    "image_before_click = driver.find_element(By.XPATH,'//*[@id=\"islrg\"]/div[1]/div[1]/a[1]/div[1]/img')\n",
    "image_before_click.click()"
   ]
  },
  {
   "cell_type": "code",
   "execution_count": 79,
   "metadata": {},
   "outputs": [],
   "source": [
    "image_after_click = driver.find_element(By.XPATH,'//*[@id=\"Sva75c\"]/div[2]/div[2]/div[2]/div[2]/c-wiz/div/div/div/div[3]/div[1]/a/img[1]')\n",
    "final_image_url = image_after_click.get_attribute('src')\n"
   ]
  },
  {
   "cell_type": "code",
   "execution_count": 77,
   "metadata": {},
   "outputs": [
    {
     "ename": "NoSuchElementException",
     "evalue": "Message: no such element: Unable to locate element: {\"method\":\"xpath\",\"selector\":\"//*[@id=\"Sva75c\"]/div[2]/div[2]/div[2]/div[2]/c-wiz/div/div/div/div[3]/div[1]/a/img[1]\"}\n  (Session info: chrome=117.0.5938.134); For documentation on this error, please visit: https://www.selenium.dev/documentation/webdriver/troubleshooting/errors#no-such-element-exception\nStacktrace:\n\tGetHandleVerifier [0x00007FF7D3C97D12+55474]\n\t(No symbol) [0x00007FF7D3C077C2]\n\t(No symbol) [0x00007FF7D3ABE0EB]\n\t(No symbol) [0x00007FF7D3AFEBAC]\n\t(No symbol) [0x00007FF7D3AFED2C]\n\t(No symbol) [0x00007FF7D3B39F77]\n\t(No symbol) [0x00007FF7D3B1F19F]\n\t(No symbol) [0x00007FF7D3B37EF2]\n\t(No symbol) [0x00007FF7D3B1EF33]\n\t(No symbol) [0x00007FF7D3AF3D41]\n\t(No symbol) [0x00007FF7D3AF4F84]\n\tGetHandleVerifier [0x00007FF7D3FFB762+3609346]\n\tGetHandleVerifier [0x00007FF7D4051A80+3962400]\n\tGetHandleVerifier [0x00007FF7D4049F0F+3930799]\n\tGetHandleVerifier [0x00007FF7D3D33CA6+694342]\n\t(No symbol) [0x00007FF7D3C12218]\n\t(No symbol) [0x00007FF7D3C0E484]\n\t(No symbol) [0x00007FF7D3C0E5B2]\n\t(No symbol) [0x00007FF7D3BFEE13]\n\tBaseThreadInitThunk [0x00007FFD457E257D+29]\n\tRtlUserThreadStart [0x00007FFD46E8AA68+40]\n",
     "output_type": "error",
     "traceback": [
      "\u001b[1;31m---------------------------------------------------------------------------\u001b[0m",
      "\u001b[1;31mNoSuchElementException\u001b[0m                    Traceback (most recent call last)",
      "\u001b[1;32md:\\Python\\python_learning\\image_downloader\\main.ipynb Cell 7\u001b[0m line \u001b[0;36m6\n\u001b[0;32m      <a href='vscode-notebook-cell:/d%3A/Python/python_learning/image_downloader/main.ipynb#X34sZmlsZQ%3D%3D?line=2'>3</a>\u001b[0m image_before_click \u001b[39m=\u001b[39m driver\u001b[39m.\u001b[39mfind_element(By\u001b[39m.\u001b[39mXPATH,\u001b[39m'\u001b[39m\u001b[39m//*[@id=\u001b[39m\u001b[39m\"\u001b[39m\u001b[39mislrg\u001b[39m\u001b[39m\"\u001b[39m\u001b[39m]/div[1]/div[1]/a[1]/div[1]/img\u001b[39m\u001b[39m'\u001b[39m)\n\u001b[0;32m      <a href='vscode-notebook-cell:/d%3A/Python/python_learning/image_downloader/main.ipynb#X34sZmlsZQ%3D%3D?line=3'>4</a>\u001b[0m image_before_click\u001b[39m.\u001b[39mclick()\n\u001b[1;32m----> <a href='vscode-notebook-cell:/d%3A/Python/python_learning/image_downloader/main.ipynb#X34sZmlsZQ%3D%3D?line=5'>6</a>\u001b[0m image_after_click \u001b[39m=\u001b[39m driver\u001b[39m.\u001b[39;49mfind_element(By\u001b[39m.\u001b[39;49mXPATH,\u001b[39m'\u001b[39;49m\u001b[39m//*[@id=\u001b[39;49m\u001b[39m\"\u001b[39;49m\u001b[39mSva75c\u001b[39;49m\u001b[39m\"\u001b[39;49m\u001b[39m]/div[2]/div[2]/div[2]/div[2]/c-wiz/div/div/div/div[3]/div[1]/a/img[1]\u001b[39;49m\u001b[39m'\u001b[39;49m)\n\u001b[0;32m      <a href='vscode-notebook-cell:/d%3A/Python/python_learning/image_downloader/main.ipynb#X34sZmlsZQ%3D%3D?line=6'>7</a>\u001b[0m final_image_url \u001b[39m=\u001b[39m image_after_click\u001b[39m.\u001b[39mget_attribute(\u001b[39m'\u001b[39m\u001b[39msrc\u001b[39m\u001b[39m'\u001b[39m)\n\u001b[0;32m      <a href='vscode-notebook-cell:/d%3A/Python/python_learning/image_downloader/main.ipynb#X34sZmlsZQ%3D%3D?line=8'>9</a>\u001b[0m \u001b[39mprint\u001b[39m(final_image_url)\n",
      "File \u001b[1;32mc:\\Users\\JEET\\AppData\\Local\\Programs\\Python\\Python310\\lib\\site-packages\\selenium\\webdriver\\remote\\webdriver.py:738\u001b[0m, in \u001b[0;36mWebDriver.find_element\u001b[1;34m(self, by, value)\u001b[0m\n\u001b[0;32m    735\u001b[0m     by \u001b[39m=\u001b[39m By\u001b[39m.\u001b[39mCSS_SELECTOR\n\u001b[0;32m    736\u001b[0m     value \u001b[39m=\u001b[39m \u001b[39mf\u001b[39m\u001b[39m'\u001b[39m\u001b[39m[name=\u001b[39m\u001b[39m\"\u001b[39m\u001b[39m{\u001b[39;00mvalue\u001b[39m}\u001b[39;00m\u001b[39m\"\u001b[39m\u001b[39m]\u001b[39m\u001b[39m'\u001b[39m\n\u001b[1;32m--> 738\u001b[0m \u001b[39mreturn\u001b[39;00m \u001b[39mself\u001b[39;49m\u001b[39m.\u001b[39;49mexecute(Command\u001b[39m.\u001b[39;49mFIND_ELEMENT, {\u001b[39m\"\u001b[39;49m\u001b[39musing\u001b[39;49m\u001b[39m\"\u001b[39;49m: by, \u001b[39m\"\u001b[39;49m\u001b[39mvalue\u001b[39;49m\u001b[39m\"\u001b[39;49m: value})[\u001b[39m\"\u001b[39m\u001b[39mvalue\u001b[39m\u001b[39m\"\u001b[39m]\n",
      "File \u001b[1;32mc:\\Users\\JEET\\AppData\\Local\\Programs\\Python\\Python310\\lib\\site-packages\\selenium\\webdriver\\remote\\webdriver.py:344\u001b[0m, in \u001b[0;36mWebDriver.execute\u001b[1;34m(self, driver_command, params)\u001b[0m\n\u001b[0;32m    342\u001b[0m response \u001b[39m=\u001b[39m \u001b[39mself\u001b[39m\u001b[39m.\u001b[39mcommand_executor\u001b[39m.\u001b[39mexecute(driver_command, params)\n\u001b[0;32m    343\u001b[0m \u001b[39mif\u001b[39;00m response:\n\u001b[1;32m--> 344\u001b[0m     \u001b[39mself\u001b[39;49m\u001b[39m.\u001b[39;49merror_handler\u001b[39m.\u001b[39;49mcheck_response(response)\n\u001b[0;32m    345\u001b[0m     response[\u001b[39m\"\u001b[39m\u001b[39mvalue\u001b[39m\u001b[39m\"\u001b[39m] \u001b[39m=\u001b[39m \u001b[39mself\u001b[39m\u001b[39m.\u001b[39m_unwrap_value(response\u001b[39m.\u001b[39mget(\u001b[39m\"\u001b[39m\u001b[39mvalue\u001b[39m\u001b[39m\"\u001b[39m, \u001b[39mNone\u001b[39;00m))\n\u001b[0;32m    346\u001b[0m     \u001b[39mreturn\u001b[39;00m response\n",
      "File \u001b[1;32mc:\\Users\\JEET\\AppData\\Local\\Programs\\Python\\Python310\\lib\\site-packages\\selenium\\webdriver\\remote\\errorhandler.py:229\u001b[0m, in \u001b[0;36mErrorHandler.check_response\u001b[1;34m(self, response)\u001b[0m\n\u001b[0;32m    227\u001b[0m         alert_text \u001b[39m=\u001b[39m value[\u001b[39m\"\u001b[39m\u001b[39malert\u001b[39m\u001b[39m\"\u001b[39m]\u001b[39m.\u001b[39mget(\u001b[39m\"\u001b[39m\u001b[39mtext\u001b[39m\u001b[39m\"\u001b[39m)\n\u001b[0;32m    228\u001b[0m     \u001b[39mraise\u001b[39;00m exception_class(message, screen, stacktrace, alert_text)  \u001b[39m# type: ignore[call-arg]  # mypy is not smart enough here\u001b[39;00m\n\u001b[1;32m--> 229\u001b[0m \u001b[39mraise\u001b[39;00m exception_class(message, screen, stacktrace)\n",
      "\u001b[1;31mNoSuchElementException\u001b[0m: Message: no such element: Unable to locate element: {\"method\":\"xpath\",\"selector\":\"//*[@id=\"Sva75c\"]/div[2]/div[2]/div[2]/div[2]/c-wiz/div/div/div/div[3]/div[1]/a/img[1]\"}\n  (Session info: chrome=117.0.5938.134); For documentation on this error, please visit: https://www.selenium.dev/documentation/webdriver/troubleshooting/errors#no-such-element-exception\nStacktrace:\n\tGetHandleVerifier [0x00007FF7D3C97D12+55474]\n\t(No symbol) [0x00007FF7D3C077C2]\n\t(No symbol) [0x00007FF7D3ABE0EB]\n\t(No symbol) [0x00007FF7D3AFEBAC]\n\t(No symbol) [0x00007FF7D3AFED2C]\n\t(No symbol) [0x00007FF7D3B39F77]\n\t(No symbol) [0x00007FF7D3B1F19F]\n\t(No symbol) [0x00007FF7D3B37EF2]\n\t(No symbol) [0x00007FF7D3B1EF33]\n\t(No symbol) [0x00007FF7D3AF3D41]\n\t(No symbol) [0x00007FF7D3AF4F84]\n\tGetHandleVerifier [0x00007FF7D3FFB762+3609346]\n\tGetHandleVerifier [0x00007FF7D4051A80+3962400]\n\tGetHandleVerifier [0x00007FF7D4049F0F+3930799]\n\tGetHandleVerifier [0x00007FF7D3D33CA6+694342]\n\t(No symbol) [0x00007FF7D3C12218]\n\t(No symbol) [0x00007FF7D3C0E484]\n\t(No symbol) [0x00007FF7D3C0E5B2]\n\t(No symbol) [0x00007FF7D3BFEE13]\n\tBaseThreadInitThunk [0x00007FFD457E257D+29]\n\tRtlUserThreadStart [0x00007FFD46E8AA68+40]\n"
     ]
    }
   ],
   "source": [
    "#select the first image\n",
    "for i in range(1,6):\n",
    "    image_before_click = driver.find_element(By.XPATH,'//*[@id=\"islrg\"]/div[1]/div[1]/a[1]/div[1]/img')\n",
    "    image_before_click.click()\n",
    "\n",
    "    image_after_click = driver.find_element(By.XPATH,'//*[@id=\"Sva75c\"]/div[2]/div[2]/div[2]/div[2]/c-wiz/div/div/div/div[3]/div[1]/a/img[1]')\n",
    "    final_image_url = image_after_click.get_attribute('src')\n",
    "\n",
    "    print(final_image_url)"
   ]
  },
  {
   "cell_type": "code",
   "execution_count": 71,
   "metadata": {},
   "outputs": [
    {
     "name": "stdout",
     "output_type": "stream",
     "text": [
      "image downloaded successfully\n"
     ]
    }
   ],
   "source": [
    "response = requests.get(final_image_url)\n",
    "\n",
    "if response.status_code == 200:\n",
    "    with open (f\"kitchen.jpg\",'wb') as file:\n",
    "        file.write(response.content)\n",
    "\n",
    "    print(f\"image downloaded successfully\")\n",
    "\n",
    "else:\n",
    "    print(f\"download failed\")\n"
   ]
  },
  {
   "cell_type": "code",
   "execution_count": 82,
   "metadata": {},
   "outputs": [
    {
     "name": "stdout",
     "output_type": "stream",
     "text": [
      "1 image downloaded successfully\n",
      "2 image downloaded successfully\n",
      "3 image downloaded successfully\n",
      "4 image downloaded successfully\n",
      "5 image downloaded successfully\n",
      "6 image downloaded successfully\n",
      "7 image downloaded successfully\n",
      "8 image downloaded successfully\n",
      "9 image downloaded successfully\n",
      "10 image downloaded successfully\n"
     ]
    }
   ],
   "source": [
    "for i in range(1,11):\n",
    "\n",
    "# i=5\n",
    "    image_before_click = driver.find_element(By.XPATH,f'//*[@id=\"islrg\"]/div[1]/div[{i}]/a[1]/div[1]/img')\n",
    "    image_before_click.click()\n",
    "\n",
    "    time.sleep(3)\n",
    "    image_after_click = driver.find_element(By.XPATH,'//*[@id=\"Sva75c\"]/div[2]/div[2]/div[2]/div[2]/c-wiz/div/div/div/div[3]/div[1]/a/img[1]')\n",
    "    final_image_url = image_after_click.get_attribute('src')\n",
    "\n",
    "    response = requests.get(final_image_url)\n",
    "\n",
    "\n",
    "    if response.status_code == 200:\n",
    "        with open (f\"kitchen{i}.jpg\",'wb') as file:\n",
    "            file.write(response.content)\n",
    "\n",
    "        print(f\"{i} image downloaded successfully\")\n",
    "\n",
    "    else:\n",
    "        print(f\"{i} download failed\")  \n"
   ]
  },
  {
   "cell_type": "code",
   "execution_count": 73,
   "metadata": {},
   "outputs": [
    {
     "name": "stdout",
     "output_type": "stream",
     "text": [
      "https://images.livspace-cdn.com/plain/https://jumanji.livspace-cdn.com/magazine/wp-content/uploads/sites/2/2023/05/03113728/luxury-modern-kitchen-designs-regalia.jpg\n"
     ]
    }
   ],
   "source": [
    "#go for https url for that perticular image for that you need to go for larger image each time\n",
    "image_element = driver.find_element(By.XPATH,'//*[@id=\"Sva75c\"]/div[2]/div[2]/div[2]/div[2]/c-wiz/div/div/div/div[3]/div[1]/a/img[1]')\n",
    "img_url = image_element.get_attribute('src')\n",
    "print(img_url)"
   ]
  },
  {
   "cell_type": "code",
   "execution_count": 74,
   "metadata": {},
   "outputs": [],
   "source": [
    "# get the response from server and store the url\n",
    "response = requests.get(img_url)\n"
   ]
  },
  {
   "cell_type": "code",
   "execution_count": 75,
   "metadata": {},
   "outputs": [
    {
     "name": "stdout",
     "output_type": "stream",
     "text": [
      "image has been downloaded successfully\n"
     ]
    }
   ],
   "source": [
    "#download the image \n",
    "if response.status_code == 200:\n",
    "\n",
    "    with open('downloaded_image.jpg','wb') as file:\n",
    "        file.write(response.content)\n",
    "\n",
    "    print(\"image has been downloaded successfully\")\n",
    "\n",
    "else:\n",
    "    print(\"failed to download the image\")"
   ]
  },
  {
   "cell_type": "code",
   "execution_count": null,
   "metadata": {},
   "outputs": [],
   "source": []
  },
  {
   "cell_type": "code",
   "execution_count": null,
   "metadata": {},
   "outputs": [],
   "source": []
  },
  {
   "cell_type": "code",
   "execution_count": null,
   "metadata": {},
   "outputs": [],
   "source": []
  },
  {
   "cell_type": "code",
   "execution_count": null,
   "metadata": {},
   "outputs": [],
   "source": []
  },
  {
   "cell_type": "code",
   "execution_count": null,
   "metadata": {},
   "outputs": [],
   "source": []
  },
  {
   "cell_type": "code",
   "execution_count": null,
   "metadata": {},
   "outputs": [],
   "source": []
  },
  {
   "cell_type": "code",
   "execution_count": null,
   "metadata": {},
   "outputs": [],
   "source": []
  },
  {
   "cell_type": "code",
   "execution_count": null,
   "metadata": {},
   "outputs": [],
   "source": []
  },
  {
   "cell_type": "code",
   "execution_count": null,
   "metadata": {},
   "outputs": [],
   "source": []
  },
  {
   "cell_type": "code",
   "execution_count": null,
   "metadata": {},
   "outputs": [],
   "source": []
  },
  {
   "cell_type": "code",
   "execution_count": null,
   "metadata": {},
   "outputs": [],
   "source": []
  }
 ],
 "metadata": {
  "kernelspec": {
   "display_name": "Python 3",
   "language": "python",
   "name": "python3"
  },
  "language_info": {
   "codemirror_mode": {
    "name": "ipython",
    "version": 3
   },
   "file_extension": ".py",
   "mimetype": "text/x-python",
   "name": "python",
   "nbconvert_exporter": "python",
   "pygments_lexer": "ipython3",
   "version": "3.10.11"
  },
  "orig_nbformat": 4
 },
 "nbformat": 4,
 "nbformat_minor": 2
}
